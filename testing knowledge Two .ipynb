{
 "cells": [
  {
   "cell_type": "markdown",
   "metadata": {},
   "source": [
    "# Testing Knowledge \n",
    "\n",
    "In this notebook we will build several models based on the bike dataset\n",
    "\n",
    "First let's import the dataset"
   ]
  },
  {
   "cell_type": "code",
   "execution_count": 1,
   "metadata": {},
   "outputs": [
    {
     "data": {
      "text/html": [
       "<div>\n",
       "<style scoped>\n",
       "    .dataframe tbody tr th:only-of-type {\n",
       "        vertical-align: middle;\n",
       "    }\n",
       "\n",
       "    .dataframe tbody tr th {\n",
       "        vertical-align: top;\n",
       "    }\n",
       "\n",
       "    .dataframe thead th {\n",
       "        text-align: right;\n",
       "    }\n",
       "</style>\n",
       "<table border=\"1\" class=\"dataframe\">\n",
       "  <thead>\n",
       "    <tr style=\"text-align: right;\">\n",
       "      <th></th>\n",
       "      <th>instant</th>\n",
       "      <th>dteday</th>\n",
       "      <th>season</th>\n",
       "      <th>yr</th>\n",
       "      <th>mnth</th>\n",
       "      <th>holiday</th>\n",
       "      <th>weekday</th>\n",
       "      <th>workingday</th>\n",
       "      <th>weathersit</th>\n",
       "      <th>temp</th>\n",
       "      <th>atemp</th>\n",
       "      <th>hum</th>\n",
       "      <th>windspeed</th>\n",
       "      <th>casual</th>\n",
       "      <th>registered</th>\n",
       "      <th>cnt</th>\n",
       "    </tr>\n",
       "  </thead>\n",
       "  <tbody>\n",
       "    <tr>\n",
       "      <th>0</th>\n",
       "      <td>1</td>\n",
       "      <td>2011-01-01</td>\n",
       "      <td>1</td>\n",
       "      <td>0</td>\n",
       "      <td>1</td>\n",
       "      <td>0</td>\n",
       "      <td>6</td>\n",
       "      <td>0</td>\n",
       "      <td>2</td>\n",
       "      <td>0.344167</td>\n",
       "      <td>0.363625</td>\n",
       "      <td>0.805833</td>\n",
       "      <td>0.160446</td>\n",
       "      <td>331</td>\n",
       "      <td>654</td>\n",
       "      <td>985</td>\n",
       "    </tr>\n",
       "    <tr>\n",
       "      <th>1</th>\n",
       "      <td>2</td>\n",
       "      <td>2011-01-02</td>\n",
       "      <td>1</td>\n",
       "      <td>0</td>\n",
       "      <td>1</td>\n",
       "      <td>0</td>\n",
       "      <td>0</td>\n",
       "      <td>0</td>\n",
       "      <td>2</td>\n",
       "      <td>0.363478</td>\n",
       "      <td>0.353739</td>\n",
       "      <td>0.696087</td>\n",
       "      <td>0.248539</td>\n",
       "      <td>131</td>\n",
       "      <td>670</td>\n",
       "      <td>801</td>\n",
       "    </tr>\n",
       "    <tr>\n",
       "      <th>2</th>\n",
       "      <td>3</td>\n",
       "      <td>2011-01-03</td>\n",
       "      <td>1</td>\n",
       "      <td>0</td>\n",
       "      <td>1</td>\n",
       "      <td>0</td>\n",
       "      <td>1</td>\n",
       "      <td>1</td>\n",
       "      <td>1</td>\n",
       "      <td>0.196364</td>\n",
       "      <td>0.189405</td>\n",
       "      <td>0.437273</td>\n",
       "      <td>0.248309</td>\n",
       "      <td>120</td>\n",
       "      <td>1229</td>\n",
       "      <td>1349</td>\n",
       "    </tr>\n",
       "    <tr>\n",
       "      <th>3</th>\n",
       "      <td>4</td>\n",
       "      <td>2011-01-04</td>\n",
       "      <td>1</td>\n",
       "      <td>0</td>\n",
       "      <td>1</td>\n",
       "      <td>0</td>\n",
       "      <td>2</td>\n",
       "      <td>1</td>\n",
       "      <td>1</td>\n",
       "      <td>0.200000</td>\n",
       "      <td>0.212122</td>\n",
       "      <td>0.590435</td>\n",
       "      <td>0.160296</td>\n",
       "      <td>108</td>\n",
       "      <td>1454</td>\n",
       "      <td>1562</td>\n",
       "    </tr>\n",
       "    <tr>\n",
       "      <th>4</th>\n",
       "      <td>5</td>\n",
       "      <td>2011-01-05</td>\n",
       "      <td>1</td>\n",
       "      <td>0</td>\n",
       "      <td>1</td>\n",
       "      <td>0</td>\n",
       "      <td>3</td>\n",
       "      <td>1</td>\n",
       "      <td>1</td>\n",
       "      <td>0.226957</td>\n",
       "      <td>0.229270</td>\n",
       "      <td>0.436957</td>\n",
       "      <td>0.186900</td>\n",
       "      <td>82</td>\n",
       "      <td>1518</td>\n",
       "      <td>1600</td>\n",
       "    </tr>\n",
       "  </tbody>\n",
       "</table>\n",
       "</div>"
      ],
      "text/plain": [
       "   instant      dteday  season  yr  mnth  holiday  weekday  workingday  \\\n",
       "0        1  2011-01-01       1   0     1        0        6           0   \n",
       "1        2  2011-01-02       1   0     1        0        0           0   \n",
       "2        3  2011-01-03       1   0     1        0        1           1   \n",
       "3        4  2011-01-04       1   0     1        0        2           1   \n",
       "4        5  2011-01-05       1   0     1        0        3           1   \n",
       "\n",
       "   weathersit      temp     atemp       hum  windspeed  casual  registered  \\\n",
       "0           2  0.344167  0.363625  0.805833   0.160446     331         654   \n",
       "1           2  0.363478  0.353739  0.696087   0.248539     131         670   \n",
       "2           1  0.196364  0.189405  0.437273   0.248309     120        1229   \n",
       "3           1  0.200000  0.212122  0.590435   0.160296     108        1454   \n",
       "4           1  0.226957  0.229270  0.436957   0.186900      82        1518   \n",
       "\n",
       "    cnt  \n",
       "0   985  \n",
       "1   801  \n",
       "2  1349  \n",
       "3  1562  \n",
       "4  1600  "
      ]
     },
     "execution_count": 1,
     "metadata": {},
     "output_type": "execute_result"
    }
   ],
   "source": [
    "import pandas as pd\n",
    "df=pd.read_csv(\"data/day.csv\")\n",
    "df.head()"
   ]
  },
  {
   "cell_type": "markdown",
   "metadata": {},
   "source": [
    "Mow we can delete the non used variables"
   ]
  },
  {
   "cell_type": "code",
   "execution_count": 2,
   "metadata": {},
   "outputs": [
    {
     "data": {
      "text/html": [
       "<div>\n",
       "<style scoped>\n",
       "    .dataframe tbody tr th:only-of-type {\n",
       "        vertical-align: middle;\n",
       "    }\n",
       "\n",
       "    .dataframe tbody tr th {\n",
       "        vertical-align: top;\n",
       "    }\n",
       "\n",
       "    .dataframe thead th {\n",
       "        text-align: right;\n",
       "    }\n",
       "</style>\n",
       "<table border=\"1\" class=\"dataframe\">\n",
       "  <thead>\n",
       "    <tr style=\"text-align: right;\">\n",
       "      <th></th>\n",
       "      <th>season</th>\n",
       "      <th>temp</th>\n",
       "      <th>hum</th>\n",
       "      <th>windspeed</th>\n",
       "      <th>cnt</th>\n",
       "    </tr>\n",
       "  </thead>\n",
       "  <tbody>\n",
       "    <tr>\n",
       "      <th>0</th>\n",
       "      <td>1</td>\n",
       "      <td>0.344167</td>\n",
       "      <td>0.805833</td>\n",
       "      <td>0.160446</td>\n",
       "      <td>985</td>\n",
       "    </tr>\n",
       "    <tr>\n",
       "      <th>1</th>\n",
       "      <td>1</td>\n",
       "      <td>0.363478</td>\n",
       "      <td>0.696087</td>\n",
       "      <td>0.248539</td>\n",
       "      <td>801</td>\n",
       "    </tr>\n",
       "    <tr>\n",
       "      <th>2</th>\n",
       "      <td>1</td>\n",
       "      <td>0.196364</td>\n",
       "      <td>0.437273</td>\n",
       "      <td>0.248309</td>\n",
       "      <td>1349</td>\n",
       "    </tr>\n",
       "    <tr>\n",
       "      <th>3</th>\n",
       "      <td>1</td>\n",
       "      <td>0.200000</td>\n",
       "      <td>0.590435</td>\n",
       "      <td>0.160296</td>\n",
       "      <td>1562</td>\n",
       "    </tr>\n",
       "    <tr>\n",
       "      <th>4</th>\n",
       "      <td>1</td>\n",
       "      <td>0.226957</td>\n",
       "      <td>0.436957</td>\n",
       "      <td>0.186900</td>\n",
       "      <td>1600</td>\n",
       "    </tr>\n",
       "  </tbody>\n",
       "</table>\n",
       "</div>"
      ],
      "text/plain": [
       "   season      temp       hum  windspeed   cnt\n",
       "0       1  0.344167  0.805833   0.160446   985\n",
       "1       1  0.363478  0.696087   0.248539   801\n",
       "2       1  0.196364  0.437273   0.248309  1349\n",
       "3       1  0.200000  0.590435   0.160296  1562\n",
       "4       1  0.226957  0.436957   0.186900  1600"
      ]
     },
     "execution_count": 2,
     "metadata": {},
     "output_type": "execute_result"
    }
   ],
   "source": [
    "df=df[[\"season\",\"temp\",\"hum\",\"windspeed\",\"cnt\"]]\n",
    "df.head()"
   ]
  },
  {
   "cell_type": "markdown",
   "metadata": {},
   "source": [
    "#### 1 Let's find which predictor is driving of the using of Bike"
   ]
  },
  {
   "cell_type": "code",
   "execution_count": 5,
   "metadata": {},
   "outputs": [
    {
     "name": "stdout",
     "output_type": "stream",
     "text": [
      "\n",
      "\n",
      "cnt ~ temp : R squared= 0.3937487313729242 \n",
      "\n",
      "\n",
      "cnt ~ hum : R squared= 0.010132146131519248 \n",
      "\n",
      "\n",
      "cnt ~ windspeed : R squared= 0.05501135581553118 \n",
      "\n",
      "\n",
      "cnt ~ season : R squared= 0.16491751116278974 \n"
     ]
    }
   ],
   "source": [
    "import statsmodels.formula.api as smf\n",
    "formula=[\"cnt ~ temp\",\"cnt ~ hum\",\"cnt ~ windspeed\",\"cnt ~ season\"]\n",
    "for i in formula:\n",
    "    result=smf.ols(formula=i,data=df).fit()\n",
    "    print(\"\\n\")\n",
    "    print(\"{} : R squared= {} \".format(i,result.rsquared))\n",
    "    \n",
    "    "
   ]
  },
  {
   "cell_type": "markdown",
   "metadata": {},
   "source": [
    "According to the four model ,the model cnt ~ temp explain the most the variation of the outcome cnt\n",
    "\n",
    "\n",
    "#### 2.Looking at the squared of each season of each univarate model"
   ]
  },
  {
   "cell_type": "code",
   "execution_count": 13,
   "metadata": {},
   "outputs": [
    {
     "name": "stdout",
     "output_type": "stream",
     "text": [
      "------------------------------\n",
      "\n",
      " spring\n",
      "\n",
      "\n",
      "cnt ~ temp : R squared= 0.44783156923271294 \n",
      "\n",
      "\n",
      "cnt ~ hum : R squared= 0.0015466046229688502 \n",
      "\n",
      "\n",
      "cnt ~ windspeed : R squared= 0.007738534637298122 \n",
      "------------------------------\n",
      "\n",
      " summer\n",
      "\n",
      "\n",
      "cnt ~ temp : R squared= 0.22741853032512516 \n",
      "\n",
      "\n",
      "cnt ~ hum : R squared= 0.10235334043914202 \n",
      "\n",
      "\n",
      "cnt ~ windspeed : R squared= 0.05259634252037981 \n",
      "------------------------------\n",
      "\n",
      " fall\n",
      "\n",
      "\n",
      "cnt ~ temp : R squared= 0.0010770708700372777 \n",
      "\n",
      "\n",
      "cnt ~ hum : R squared= 0.1025613557566093 \n",
      "\n",
      "\n",
      "cnt ~ windspeed : R squared= 0.04007661515159755 \n",
      "------------------------------\n",
      "\n",
      " winter\n",
      "\n",
      "\n",
      "cnt ~ temp : R squared= 0.15813792312746722 \n",
      "\n",
      "\n",
      "cnt ~ hum : R squared= 0.08296421842555601 \n",
      "\n",
      "\n",
      "cnt ~ windspeed : R squared= 0.022203851487793136 \n"
     ]
    }
   ],
   "source": [
    "season={1:\"spring\",2:\"summer\",3:\"fall\",4:\"winter\"}\n",
    "variable=[\"temp\",\"hum\",\"windspeed\"]\n",
    "for i in range(1,5):\n",
    "    print(\"---\"*10)\n",
    "    print(\"\\n {}\".format(season[i]))\n",
    "    for predictor in variable:\n",
    "        formula=\"cnt ~ {}\".format(predictor)\n",
    "        result=smf.ols(formula=formula,data=df[df[\"season\"]==i]).fit()\n",
    "        print(\"\\n\")\n",
    "        print(\"cnt ~ {} : R squared= {} \".format(predictor,result.rsquared))\n",
    "    \n",
    "    "
   ]
  },
  {
   "cell_type": "markdown",
   "metadata": {},
   "source": [
    "Interpretation\n",
    "\n",
    "* Temp has the most influence in spring.\n",
    "* Humidity is the most important factor in the fall.  \n",
    "* windspeed have a very litle influence on the usage of the bike\n",
    "\n",
    "\n",
    "\n",
    "#### 3 Interest us on the p value of each model for each season\n"
   ]
  },
  {
   "cell_type": "code",
   "execution_count": 18,
   "metadata": {},
   "outputs": [
    {
     "name": "stdout",
     "output_type": "stream",
     "text": [
      "------------------------------\n",
      "\n",
      " spring\n",
      "\n",
      "\n",
      "cnt ~ temp :  pvalue[temp]= 0.000 \n",
      "\n",
      "\n",
      "cnt ~ hum :  pvalue[hum]= 0.599 \n",
      "\n",
      "\n",
      "cnt ~ windspeed :  pvalue[windspeed]= 0.239 \n",
      "------------------------------\n",
      "\n",
      " summer\n",
      "\n",
      "\n",
      "cnt ~ temp :  pvalue[temp]= 0.000 \n",
      "\n",
      "\n",
      "cnt ~ hum :  pvalue[hum]= 0.000 \n",
      "\n",
      "\n",
      "cnt ~ windspeed :  pvalue[windspeed]= 0.002 \n",
      "------------------------------\n",
      "\n",
      " fall\n",
      "\n",
      "\n",
      "cnt ~ temp :  pvalue[temp]= 0.655 \n",
      "\n",
      "\n",
      "cnt ~ hum :  pvalue[hum]= 0.000 \n",
      "\n",
      "\n",
      "cnt ~ windspeed :  pvalue[windspeed]= 0.006 \n",
      "------------------------------\n",
      "\n",
      " winter\n",
      "\n",
      "\n",
      "cnt ~ temp :  pvalue[temp]= 0.000 \n",
      "\n",
      "\n",
      "cnt ~ hum :  pvalue[hum]= 0.000 \n",
      "\n",
      "\n",
      "cnt ~ windspeed :  pvalue[windspeed]= 0.047 \n"
     ]
    }
   ],
   "source": [
    "for i in range(1,5):\n",
    "    print(\"---\"*10)\n",
    "    print(\"\\n {}\".format(season[i]))\n",
    "    for predictor in variable:\n",
    "        formula=\"cnt ~ {}\".format(predictor)\n",
    "        result=smf.ols(formula=formula,data=df[df[\"season\"]==i]).fit()\n",
    "        print(\"\\n\")\n",
    "        print(\"cnt ~ {} :  pvalue[{}]= {:.3f} \".format(predictor,predictor,result.pvalues[predictor]))"
   ]
  },
  {
   "cell_type": "markdown",
   "metadata": {},
   "source": [
    "* the temp is not significant at fall"
   ]
  },
  {
   "cell_type": "markdown",
   "metadata": {},
   "source": [
    "#### 4 Compare to models"
   ]
  },
  {
   "cell_type": "code",
   "execution_count": 27,
   "metadata": {},
   "outputs": [
    {
     "name": "stdout",
     "output_type": "stream",
     "text": [
      "\n",
      "\n",
      "cnt ~ temp :  Rsquared= 0.394  \n",
      "cnt ~ temp :  log likelihood= -6386.768 \n",
      "cnt ~ temp :  Adj R squared= 0.393 \n",
      "\n",
      "\n",
      "cnt ~ temp + windspeed + hum :  Rsquared= 0.461  \n",
      "cnt ~ temp + windspeed + hum :  log likelihood= -6343.864 \n",
      "cnt ~ temp + windspeed + hum :  Adj R squared= 0.459 \n"
     ]
    }
   ],
   "source": [
    "predictors=[\"temp\",\"temp + windspeed + hum\"]\n",
    "for predictor in predictors:\n",
    "    formula=\"cnt ~ {}\".format(predictor)\n",
    "    result=smf.ols(formula=formula,data=df).fit()\n",
    "    print(\"\\n\")\n",
    "    print(\"cnt ~ {} :  Rsquared= {:.3f}  \".format(predictor,result.rsquared))\n",
    "    print(\"cnt ~ {} :  log likelihood= {:.3f} \".format(predictor,result.llf))\n",
    "    print(\"cnt ~ {} :  Adj R squared= {:.3f} \".format(predictor,result.rsquared_adj))\n"
   ]
  },
  {
   "cell_type": "markdown",
   "metadata": {},
   "source": [
    "The cnt ~ temp + windspeed + hum is better than the cnt ~ temp because \n",
    "* R-squared and adjusted R-squared both increased.\n",
    "* The log-likelihood increased.\n",
    "* The confidence interval for the temperature coefficient is tighter."
   ]
  },
  {
   "cell_type": "markdown",
   "metadata": {},
   "source": [
    "#### 6 Analyse of the cnt ~ temp + season + hum + windspeed"
   ]
  },
  {
   "cell_type": "code",
   "execution_count": 28,
   "metadata": {},
   "outputs": [
    {
     "name": "stdout",
     "output_type": "stream",
     "text": [
      "log likelihood= -6310.231 \n"
     ]
    }
   ],
   "source": [
    "result=smf.ols(formula=\"cnt ~ temp + season + hum + windspeed\",data=df).fit()\n",
    "print(\"log likelihood= {:.3f} \".format(result.llf))"
   ]
  },
  {
   "cell_type": "markdown",
   "metadata": {},
   "source": [
    "Adding the season improve the model beause the log likelihood increase"
   ]
  },
  {
   "cell_type": "code",
   "execution_count": null,
   "metadata": {},
   "outputs": [],
   "source": [
    "\n",
    "\n"
   ]
  },
  {
   "cell_type": "code",
   "execution_count": null,
   "metadata": {},
   "outputs": [],
   "source": []
  },
  {
   "cell_type": "markdown",
   "metadata": {},
   "source": [
    "##### 10 New variable with the square of the predictors"
   ]
  },
  {
   "cell_type": "code",
   "execution_count": 33,
   "metadata": {},
   "outputs": [
    {
     "data": {
      "text/html": [
       "<div>\n",
       "<style scoped>\n",
       "    .dataframe tbody tr th:only-of-type {\n",
       "        vertical-align: middle;\n",
       "    }\n",
       "\n",
       "    .dataframe tbody tr th {\n",
       "        vertical-align: top;\n",
       "    }\n",
       "\n",
       "    .dataframe thead th {\n",
       "        text-align: right;\n",
       "    }\n",
       "</style>\n",
       "<table border=\"1\" class=\"dataframe\">\n",
       "  <thead>\n",
       "    <tr style=\"text-align: right;\">\n",
       "      <th></th>\n",
       "      <th>season</th>\n",
       "      <th>temp</th>\n",
       "      <th>hum</th>\n",
       "      <th>windspeed</th>\n",
       "      <th>cnt</th>\n",
       "      <th>hum^2</th>\n",
       "      <th>temp^2</th>\n",
       "      <th>windspeed^2</th>\n",
       "      <th>hum2</th>\n",
       "      <th>temp2</th>\n",
       "      <th>windspeed2</th>\n",
       "    </tr>\n",
       "  </thead>\n",
       "  <tbody>\n",
       "    <tr>\n",
       "      <th>0</th>\n",
       "      <td>1</td>\n",
       "      <td>0.344167</td>\n",
       "      <td>0.805833</td>\n",
       "      <td>0.160446</td>\n",
       "      <td>985</td>\n",
       "      <td>0.649367</td>\n",
       "      <td>0.118451</td>\n",
       "      <td>0.025743</td>\n",
       "      <td>0.649367</td>\n",
       "      <td>0.118451</td>\n",
       "      <td>0.025743</td>\n",
       "    </tr>\n",
       "    <tr>\n",
       "      <th>1</th>\n",
       "      <td>1</td>\n",
       "      <td>0.363478</td>\n",
       "      <td>0.696087</td>\n",
       "      <td>0.248539</td>\n",
       "      <td>801</td>\n",
       "      <td>0.484537</td>\n",
       "      <td>0.132116</td>\n",
       "      <td>0.061772</td>\n",
       "      <td>0.484537</td>\n",
       "      <td>0.132116</td>\n",
       "      <td>0.061772</td>\n",
       "    </tr>\n",
       "    <tr>\n",
       "      <th>2</th>\n",
       "      <td>1</td>\n",
       "      <td>0.196364</td>\n",
       "      <td>0.437273</td>\n",
       "      <td>0.248309</td>\n",
       "      <td>1349</td>\n",
       "      <td>0.191208</td>\n",
       "      <td>0.038559</td>\n",
       "      <td>0.061657</td>\n",
       "      <td>0.191208</td>\n",
       "      <td>0.038559</td>\n",
       "      <td>0.061657</td>\n",
       "    </tr>\n",
       "    <tr>\n",
       "      <th>3</th>\n",
       "      <td>1</td>\n",
       "      <td>0.200000</td>\n",
       "      <td>0.590435</td>\n",
       "      <td>0.160296</td>\n",
       "      <td>1562</td>\n",
       "      <td>0.348613</td>\n",
       "      <td>0.040000</td>\n",
       "      <td>0.025695</td>\n",
       "      <td>0.348613</td>\n",
       "      <td>0.040000</td>\n",
       "      <td>0.025695</td>\n",
       "    </tr>\n",
       "    <tr>\n",
       "      <th>4</th>\n",
       "      <td>1</td>\n",
       "      <td>0.226957</td>\n",
       "      <td>0.436957</td>\n",
       "      <td>0.186900</td>\n",
       "      <td>1600</td>\n",
       "      <td>0.190931</td>\n",
       "      <td>0.051509</td>\n",
       "      <td>0.034932</td>\n",
       "      <td>0.190931</td>\n",
       "      <td>0.051509</td>\n",
       "      <td>0.034932</td>\n",
       "    </tr>\n",
       "  </tbody>\n",
       "</table>\n",
       "</div>"
      ],
      "text/plain": [
       "   season      temp       hum  windspeed   cnt     hum^2    temp^2  \\\n",
       "0       1  0.344167  0.805833   0.160446   985  0.649367  0.118451   \n",
       "1       1  0.363478  0.696087   0.248539   801  0.484537  0.132116   \n",
       "2       1  0.196364  0.437273   0.248309  1349  0.191208  0.038559   \n",
       "3       1  0.200000  0.590435   0.160296  1562  0.348613  0.040000   \n",
       "4       1  0.226957  0.436957   0.186900  1600  0.190931  0.051509   \n",
       "\n",
       "   windspeed^2      hum2     temp2  windspeed2  \n",
       "0     0.025743  0.649367  0.118451    0.025743  \n",
       "1     0.061772  0.484537  0.132116    0.061772  \n",
       "2     0.061657  0.191208  0.038559    0.061657  \n",
       "3     0.025695  0.348613  0.040000    0.025695  \n",
       "4     0.034932  0.190931  0.051509    0.034932  "
      ]
     },
     "execution_count": 33,
     "metadata": {},
     "output_type": "execute_result"
    }
   ],
   "source": [
    "import numpy as np\n",
    "df[\"hum2\"]=np.square(df.hum)\n",
    "df[\"temp2\"]=np.square(df.temp)\n",
    "df[\"windspeed2\"]=np.square(df.windspeed)\n",
    "df.head()"
   ]
  },
  {
   "cell_type": "code",
   "execution_count": 35,
   "metadata": {},
   "outputs": [
    {
     "name": "stdout",
     "output_type": "stream",
     "text": [
      "\n",
      "\n",
      "cnt ~ temp + temp2 + hum + windspeed :  Rsquared= 0.561  \n",
      "cnt ~ temp + temp2 + hum + windspeed :  log likelihood= -6268.531 \n",
      "cnt ~ temp + temp2 + hum + windspeed :  Adj R squared= 0.559 \n",
      "\n",
      "\n",
      "cnt ~ temp + hum + hum2 + windspeed :  Rsquared= 0.480  \n",
      "cnt ~ temp + hum + hum2 + windspeed :  log likelihood= -6330.366 \n",
      "cnt ~ temp + hum + hum2 + windspeed :  Adj R squared= 0.478 \n",
      "\n",
      "\n",
      "cnt ~ temp + hum + windspeed + windspeed2 :  Rsquared= 0.461  \n",
      "cnt ~ temp + hum + windspeed + windspeed2 :  log likelihood= -6343.827 \n",
      "cnt ~ temp + hum + windspeed + windspeed2 :  Adj R squared= 0.458 \n",
      "\n",
      "\n",
      "cnt ~ temp + hum + windspeed :  Rsquared= 0.461  \n",
      "cnt ~ temp + hum + windspeed :  log likelihood= -6343.864 \n",
      "cnt ~ temp + hum + windspeed :  Adj R squared= 0.459 \n"
     ]
    }
   ],
   "source": [
    "model=[\"temp + temp2 + hum + windspeed\",\"temp + hum + hum2 + windspeed\", \"temp + hum + windspeed + windspeed2\",\"temp + hum + windspeed\"]\n",
    "for M in model:\n",
    "    formula=\"cnt ~ {}\".format(M)\n",
    "    result=smf.ols(formula=formula,data=df).fit()\n",
    "    print(\"\\n\")\n",
    "    print(\"{} :  Rsquared= {:.3f}  \".format(formula,result.rsquared))\n",
    "    print(\"{} :  log likelihood= {:.3f} \".format(formula,result.llf))\n",
    "    print(\"{} :  Adj R squared= {:.3f} \".format(formula,result.rsquared_adj))"
   ]
  },
  {
   "cell_type": "markdown",
   "metadata": {},
   "source": [
    "The R squared and the log likelihood increase when we add the square of the predictors except the square of windspeed .So we can conclude that adding square of hum and temp improve the model but the square of the wind have not a effect in the model\n"
   ]
  },
  {
   "cell_type": "code",
   "execution_count": null,
   "metadata": {},
   "outputs": [],
   "source": []
  }
 ],
 "metadata": {
  "kernelspec": {
   "display_name": "Python 3",
   "language": "python",
   "name": "python3"
  },
  "language_info": {
   "codemirror_mode": {
    "name": "ipython",
    "version": 3
   },
   "file_extension": ".py",
   "mimetype": "text/x-python",
   "name": "python",
   "nbconvert_exporter": "python",
   "pygments_lexer": "ipython3",
   "version": "3.7.7"
  }
 },
 "nbformat": 4,
 "nbformat_minor": 4
}
